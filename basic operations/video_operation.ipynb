{
 "cells": [
  {
   "cell_type": "code",
   "execution_count": 2,
   "metadata": {},
   "outputs": [],
   "source": [
    "import cv2"
   ]
  },
  {
   "cell_type": "markdown",
   "metadata": {},
   "source": [
    "## read thru path"
   ]
  },
  {
   "cell_type": "code",
   "execution_count": 3,
   "metadata": {},
   "outputs": [
    {
     "name": "stdout",
     "output_type": "stream",
     "text": [
      "cap < cv2.VideoCapture 000002C3FF82D6D0>\n"
     ]
    }
   ],
   "source": [
    "cap = cv2.VideoCapture(\"C:/Users/rahul/Desktop/e7 backup/vid/km_20230713_1080p_60f_20230713_214305.mp4\")\n",
    "print(\"cap\",cap)\n",
    "\n",
    "while True:\n",
    "    ret,frame = cap.read()\n",
    "    cv2.imshow(\"Frame\",frame)\n",
    "    k = cv2.waitKey(25)\n",
    "    if k == ord(\"c\") & 0xFF:\n",
    "        break\n",
    "cap.release\n",
    "cv2.destroyAllWindows()"
   ]
  },
  {
   "cell_type": "markdown",
   "metadata": {},
   "source": [
    "## read thru webcam or external camera"
   ]
  },
  {
   "cell_type": "code",
   "execution_count": 13,
   "metadata": {},
   "outputs": [],
   "source": [
    "cap = cv2.VideoCapture(0) #primary = 0, external = 1\n",
    "\n",
    "\n",
    "# uncomment these lines to save the video:\n",
    "\n",
    "fourcc = cv2.VideoWriter_fourcc(*'XVID')\n",
    "frame_width = int(cap.get(cv2.CAP_PROP_FRAME_WIDTH))\n",
    "frame_height =int(cap.get(cv2.CAP_PROP_FRAME_HEIGHT))\n",
    "output = cv2.VideoWriter('./output.mp4',fourcc,20.0,(frame_width,frame_height)) \n",
    "    #output parameters: name,codec,fps,resolution\n",
    "    \n",
    "\n",
    "\n",
    "while cap.isOpened():\n",
    "    ret,frame =cap.read()\n",
    "    if ret == True:\n",
    "        cv2.imshow('frame',frame)\n",
    "        output.write(frame)\n",
    "        k = cv2.waitKey(1)\n",
    "        if k == ord('c') & 0xFF:\n",
    "            break\n",
    "        \n",
    "cap.release()\n",
    "output.release()\n",
    "cv2.destroyAllWindows()"
   ]
  }
 ],
 "metadata": {
  "kernelspec": {
   "display_name": "py310",
   "language": "python",
   "name": "python3"
  },
  "language_info": {
   "codemirror_mode": {
    "name": "ipython",
    "version": 3
   },
   "file_extension": ".py",
   "mimetype": "text/x-python",
   "name": "python",
   "nbconvert_exporter": "python",
   "pygments_lexer": "ipython3",
   "version": "3.10.13"
  }
 },
 "nbformat": 4,
 "nbformat_minor": 2
}
