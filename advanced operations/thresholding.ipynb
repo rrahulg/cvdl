{
 "cells": [
  {
   "cell_type": "code",
   "execution_count": 1,
   "metadata": {},
   "outputs": [],
   "source": [
    "import cv2\n",
    "import numpy as np"
   ]
  },
  {
   "cell_type": "markdown",
   "metadata": {},
   "source": [
    "INTRODUCTION: \n",
    "\n",
    "segmentation is segmenting images based on its features, segmentation can be divided into 3 main categories \n",
    "- global knowledge based (histogram of features)\n",
    "- edge based detection \n",
    "- region based \n",
    "\n",
    "\n",
    "1. thresholding: \n",
    "\n",
    "<img src=\"../res/thresholding.jpg\" alt=\"types of threstholding\" width=\"450\" height=\"380\">\n",
    "\n",
    "\n",
    "3 types of thresholding :\n",
    "- simple \n",
    "- adaptive\n",
    "- band"
   ]
  },
  {
   "cell_type": "code",
   "execution_count": 4,
   "metadata": {},
   "outputs": [],
   "source": [
    "img = cv2.imread('../res/bnw.jpg',0)\n",
    "img = cv2.resize(img,(300,300))\n",
    "cv2.imshow('img',img)\n",
    "cv2.waitKey(0)\n",
    "cv2.destroyAllWindows()\n"
   ]
  },
  {
   "cell_type": "code",
   "execution_count": 10,
   "metadata": {},
   "outputs": [],
   "source": [
    "_, th1 = cv2.threshold(img, 50, 255, cv2.THRESH_BINARY)\n",
    "_, th2 = cv2.threshold(img, 50, 255, cv2.THRESH_BINARY_INV)\n",
    "_, th3 = cv2.threshold(img, 127, 255, cv2.THRESH_TRUNC)\n",
    "_, th4 = cv2.threshold(img, 127, 255, cv2.THRESH_TOZERO)\n",
    "\n",
    "cv2.imshow(\"thresh binary\", th1)\n",
    "cv2.imshow(\"thresh binary INV\", th2)\n",
    "cv2.imshow(\"thresh turncate\", th3)\n",
    "cv2.imshow(\"thresh TO_ZERO\", th4)\n",
    "cv2.waitKey(0)\n",
    "cv2.destroyAllWindows()"
   ]
  },
  {
   "cell_type": "markdown",
   "metadata": {},
   "source": [
    "SIMPLE VS ADAPTIVE THRESHOLDING\n",
    "\n",
    "\n",
    "simple can make either low or high on entire image but adaptive can calculate threshold for certain part of image\n",
    "\n",
    "\n",
    "adative: \n",
    "- mean"
   ]
  },
  {
   "cell_type": "code",
   "execution_count": 17,
   "metadata": {},
   "outputs": [],
   "source": [
    "img = cv2.imread('../res/adaptive_thresholding.jpeg',0)\n",
    "_, th1 = cv2.threshold(img,127,255,cv2.THRESH_BINARY)\n",
    "# adaptive\n",
    "\n",
    "th2 = cv2.adaptiveThreshold(\n",
    "    img, 255, cv2.ADAPTIVE_THRESH_MEAN_C, cv2.THRESH_BINARY, 11, 2\n",
    ")\n",
    "th3 = cv2.adaptiveThreshold(\n",
    "    img, 255, cv2.ADAPTIVE_THRESH_GAUSSIAN_C, cv2.THRESH_BINARY, 11, 2\n",
    ")\n",
    "cv2.imshow(\"adative 1\", th2)\n",
    "cv2.imshow(\"adative 2\", th3)\n",
    "cv2.imshow('img',img)\n",
    "cv2.imshow('THRESH_BINARY',th1)\n",
    "cv2.waitKey(0)\n",
    "cv2.destroyAllWindows()"
   ]
  },
  {
   "cell_type": "code",
   "execution_count": null,
   "metadata": {},
   "outputs": [],
   "source": []
  }
 ],
 "metadata": {
  "kernelspec": {
   "display_name": "Python 3",
   "language": "python",
   "name": "python3"
  },
  "language_info": {
   "codemirror_mode": {
    "name": "ipython",
    "version": 3
   },
   "file_extension": ".py",
   "mimetype": "text/x-python",
   "name": "python",
   "nbconvert_exporter": "python",
   "pygments_lexer": "ipython3",
   "version": "3.12.5"
  }
 },
 "nbformat": 4,
 "nbformat_minor": 2
}
