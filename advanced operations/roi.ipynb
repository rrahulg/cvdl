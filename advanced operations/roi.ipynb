{
 "cells": [
  {
   "cell_type": "code",
   "execution_count": 1,
   "metadata": {},
   "outputs": [],
   "source": [
    "import cv2\n",
    "import numpy as np"
   ]
  },
  {
   "cell_type": "code",
   "execution_count": 4,
   "metadata": {},
   "outputs": [
    {
     "name": "stdout",
     "output_type": "stream",
     "text": [
      "(r,c,ch) : ( 650 600 3 )\n"
     ]
    }
   ],
   "source": [
    "img1 = cv2.imread('../res/thor.jpg')\n",
    "img2 = cv2.imread('../res/storm_breaker.jpg')\n",
    "img1 = cv2.resize(img1,(1024,650))\n",
    "img2 = cv2.resize(img2,(600,650))\n",
    "r,c,ch = img2.shape\n",
    "print('(r,c,ch) : (',r,c,ch,')')\n",
    "\n",
    "\"roi\"\n",
    "roi = img1[0:r, 0:c]\n",
    "\n",
    "\n",
    "cv2.imshow('thor',img1)\n",
    "cv2.imshow('strom breaker',img2)\n",
    "cv2.imshow('roi',roi)\n",
    "cv2.waitKey(0)\n",
    "cv2.destroyAllWindows()"
   ]
  },
  {
   "cell_type": "code",
   "execution_count": 5,
   "metadata": {},
   "outputs": [],
   "source": [
    "img_gry = cv2.cvtColor(img2,cv2.COLOR_BGR2GRAY)\n",
    "cv2.imshow('gray',img_gry)\n",
    "cv2.waitKey(0)\n",
    "cv2.destroyAllWindows()"
   ]
  },
  {
   "cell_type": "code",
   "execution_count": 24,
   "metadata": {},
   "outputs": [],
   "source": [
    "_, mask = cv2.threshold(img_gry,50,255,cv2.THRESH_BINARY)\n",
    "\n",
    "mask_inv = cv2.bitwise_not(mask)\n",
    "\n",
    "img1_bg = cv2.bitwise_and(roi,roi,mask=mask_inv)\n",
    "\n",
    "img2_fg = cv2.bitwise_and(img2, img2, mask=mask)\n",
    "cv2.imshow('step 1: gray',img_gry)\n",
    "cv2.imshow('step 2:',mask)\n",
    "cv2.imshow('step 3: mask_inv',mask_inv)\n",
    "cv2.imshow('step 4: mask_bg',img1_bg)\n",
    "cv2.imshow('step 5: mask fg',img2_fg)\n",
    "\n",
    "cv2.waitKey(0)\n",
    "cv2.destroyAllWindows()"
   ]
  },
  {
   "cell_type": "code",
   "execution_count": 25,
   "metadata": {},
   "outputs": [],
   "source": [
    "res = cv2.add(img1_bg,img2_fg)\n",
    "cv2.imshow('final',res)\n",
    "cv2.waitKey()\n",
    "cv2.destroyAllWindows()"
   ]
  },
  {
   "cell_type": "code",
   "execution_count": 26,
   "metadata": {},
   "outputs": [],
   "source": [
    "final = img1\n",
    "final[0:r,0:c] = res\n",
    "cv2.imshow('final',final)\n",
    "cv2.waitKey()\n",
    "cv2.destroyAllWindows()"
   ]
  },
  {
   "cell_type": "code",
   "execution_count": null,
   "metadata": {},
   "outputs": [],
   "source": []
  }
 ],
 "metadata": {
  "kernelspec": {
   "display_name": "Python 3",
   "language": "python",
   "name": "python3"
  },
  "language_info": {
   "codemirror_mode": {
    "name": "ipython",
    "version": 3
   },
   "file_extension": ".py",
   "mimetype": "text/x-python",
   "name": "python",
   "nbconvert_exporter": "python",
   "pygments_lexer": "ipython3",
   "version": "3.12.5"
  }
 },
 "nbformat": 4,
 "nbformat_minor": 2
}
