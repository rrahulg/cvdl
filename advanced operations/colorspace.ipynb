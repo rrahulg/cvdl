{
 "cells": [
  {
   "cell_type": "markdown",
   "metadata": {},
   "source": [
    "# hsv - hue saturtion value\n",
    "\n",
    "<img src=\"../res/hsv.jpeg\" alt=\"hsv colorspace Image\" width=\"400\">\n",
    "\n",
    "- Hue (H): 0° to 360° or 0 to 255\n",
    "- Saturation (S): 0% to 100% or 0 to 1 or 0 to 255\n",
    "- Value (V): 0% to 100% or 0 to 1 or 0 to 255\n"
   ]
  },
  {
   "cell_type": "code",
   "execution_count": 1,
   "metadata": {},
   "outputs": [],
   "source": [
    "import cv2\n",
    "import numpy as np"
   ]
  },
  {
   "cell_type": "code",
   "execution_count": 8,
   "metadata": {},
   "outputs": [],
   "source": [
    "frame = cv2.imread(\"../res/colorfulballs.jpg\")\n",
    "while True:\n",
    "    hsv  = cv2.cvtColor(frame,cv2.COLOR_BGR2HSV)\n",
    "    u_v = np.array([48,255,248])\n",
    "    l_v = np.array([20,146,139])\n",
    "    #creating mask\n",
    "    mask = cv2.inRange(hsv,l_v,u_v)\n",
    "    #filter mask with image\n",
    "    res = cv2.bitwise_and(frame,frame,mask=mask)\n",
    "    cv2.imshow('frame',frame)\n",
    "    cv2.imshow('mask',mask)\n",
    "    cv2.imshow('res',res)\n",
    "    \n",
    "    k = cv2.waitKey(1)\n",
    "    if k == 27:\n",
    "        break\n",
    "\n",
    "\n",
    "cv2.destroyAllWindows()"
   ]
  },
  {
   "cell_type": "code",
   "execution_count": null,
   "metadata": {},
   "outputs": [],
   "source": []
  }
 ],
 "metadata": {
  "kernelspec": {
   "display_name": "Python 3",
   "language": "python",
   "name": "python3"
  },
  "language_info": {
   "codemirror_mode": {
    "name": "ipython",
    "version": 3
   },
   "file_extension": ".py",
   "mimetype": "text/x-python",
   "name": "python",
   "nbconvert_exporter": "python",
   "pygments_lexer": "ipython3",
   "version": "3.12.5"
  }
 },
 "nbformat": 4,
 "nbformat_minor": 2
}
