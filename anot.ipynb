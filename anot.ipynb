{
 "cells": [
  {
   "cell_type": "code",
   "execution_count": 1,
   "metadata": {},
   "outputs": [],
   "source": [
    "import numpy as np\n",
    "import cv2"
   ]
  },
  {
   "cell_type": "code",
   "execution_count": 131,
   "metadata": {},
   "outputs": [],
   "source": [
    "img = cv2.imread(\"C:\\\\Users\\\\rahul\\\\Downloads\\\\pexels-photo-11883262.jpeg\")\n",
    "img = cv2.resize(img,(500,700))"
   ]
  },
  {
   "cell_type": "markdown",
   "metadata": {},
   "source": [
    "## to draw a line"
   ]
  },
  {
   "cell_type": "code",
   "execution_count": 132,
   "metadata": {},
   "outputs": [],
   "source": [
    "img = cv2.line(img,(0,0),(200,200),(254,254,254),2)\n",
    "    #parameters: filename, (x1,y1,), (x2,y2), (B,G,R), thickness"
   ]
  },
  {
   "cell_type": "markdown",
   "metadata": {},
   "source": [
    "## to draw an arrowed line"
   ]
  },
  {
   "cell_type": "code",
   "execution_count": 133,
   "metadata": {},
   "outputs": [],
   "source": [
    "img = cv2.arrowedLine(img,(0,125),(200,200),(254,1,200),2)"
   ]
  },
  {
   "cell_type": "markdown",
   "metadata": {},
   "source": [
    "## to draw rectangle"
   ]
  },
  {
   "cell_type": "code",
   "execution_count": 134,
   "metadata": {},
   "outputs": [],
   "source": [
    "img =cv2.rectangle(img,(100,490),(300,200),(128,0,255),8)\n",
    "#parameter: if thickness = -1 , it gives filled rectangle"
   ]
  },
  {
   "cell_type": "markdown",
   "metadata": {},
   "source": [
    "## to draw circles"
   ]
  },
  {
   "cell_type": "code",
   "execution_count": 135,
   "metadata": {},
   "outputs": [],
   "source": [
    "img= cv2.circle(img,(220,380),105,(214,255,0),1)\n",
    "    #parameter: img,(center),radius,color,thickness"
   ]
  },
  {
   "cell_type": "markdown",
   "metadata": {},
   "source": [
    "## to put text"
   ]
  },
  {
   "cell_type": "code",
   "execution_count": 136,
   "metadata": {},
   "outputs": [],
   "source": [
    "font = cv2.FONT_ITALIC\n",
    "img = cv2.putText(img,'foto',(100,120),font,4,(0,125,255),5,cv2.LINE_AA)"
   ]
  },
  {
   "cell_type": "markdown",
   "metadata": {},
   "source": [
    "## to put ellipse"
   ]
  },
  {
   "cell_type": "code",
   "execution_count": 137,
   "metadata": {},
   "outputs": [],
   "source": [
    "img = cv2.ellipse(img,(400,600),(100,50),100,100,270,155,5)"
   ]
  },
  {
   "cell_type": "code",
   "execution_count": 138,
   "metadata": {},
   "outputs": [],
   "source": [
    "cv2.imshow(\"res\", img)\n",
    "cv2.waitKey(0)\n",
    "cv2.destroyAllWindows()"
   ]
  },
  {
   "cell_type": "code",
   "execution_count": 160,
   "metadata": {},
   "outputs": [],
   "source": [
    "img = np.ones([700,512,3],np.uint8)*255\n",
    "font = cv2.FONT_HERSHEY_COMPLEX\n",
    "img = cv2.line(img, (0, 0), (200, 200), (254, 254, 254), 2)\n",
    "img = cv2.arrowedLine(img, (0, 125), (200, 200), (254, 1, 200), 2)\n",
    "img = cv2.rectangle(img, (100, 490), (300, 200), (128, 0, 255), 8)\n",
    "img = cv2.circle(img, (220, 380), 105, (214, 255, 0), 1)\n",
    "img = cv2.putText(img, \"Foto\", (100, 120), font, 4, (0, 125, 255), 5, cv2.LINE_AA)\n",
    "img = cv2.ellipse(img, (400, 600), (100, 50), 100, 100, 270, 155, 5)\n",
    "img = cv2.ellipse(img, (300, 600), (100, 50), 80, 90, 270, 155, 5)\n",
    "cv2.imshow(\"zero\", img)\n",
    "cv2.waitKey(0)\n",
    "cv2.destroyAllWindows()"
   ]
  }
 ],
 "metadata": {
  "kernelspec": {
   "display_name": "py310",
   "language": "python",
   "name": "python3"
  },
  "language_info": {
   "codemirror_mode": {
    "name": "ipython",
    "version": 3
   },
   "file_extension": ".py",
   "mimetype": "text/x-python",
   "name": "python",
   "nbconvert_exporter": "python",
   "pygments_lexer": "ipython3",
   "version": "3.10.13"
  }
 },
 "nbformat": 4,
 "nbformat_minor": 2
}
