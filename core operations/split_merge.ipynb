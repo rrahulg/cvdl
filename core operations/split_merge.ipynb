{
 "cells": [
  {
   "cell_type": "code",
   "execution_count": 1,
   "metadata": {},
   "outputs": [],
   "source": [
    "import cv2\n",
    "import numpy as np"
   ]
  },
  {
   "cell_type": "code",
   "execution_count": 2,
   "metadata": {},
   "outputs": [],
   "source": [
    "img = cv2.imread(\"C:\\\\Users\\\\rahul\\\\Downloads\\\\woman-7858063_1280.jpg\")\n",
    "img = cv2.resize(img, (500,700))\n",
    "cv2.imshow('res',img)\n",
    "cv2.waitKey(0)\n",
    "cv2.destroyAllWindows()"
   ]
  },
  {
   "cell_type": "code",
   "execution_count": 3,
   "metadata": {},
   "outputs": [
    {
     "name": "stdout",
     "output_type": "stream",
     "text": [
      "shape:  (700, 500, 3)\n",
      "size:  1050000\n",
      "image dtype:  uint8\n"
     ]
    }
   ],
   "source": [
    "print('shape: ', img.shape)\n",
    "print('size: ',img.size)\n",
    "print('image dtype: ',img.dtype)"
   ]
  },
  {
   "cell_type": "markdown",
   "metadata": {},
   "source": [
    "## split"
   ]
  },
  {
   "cell_type": "code",
   "execution_count": 4,
   "metadata": {},
   "outputs": [],
   "source": [
    "b,g,r = cv2.split(img)\n",
    "cv2.imshow('blue',b)\n",
    "cv2.imshow('green',g)\n",
    "cv2.imshow('red',r)\n",
    "cv2.waitKey(0)\n",
    "cv2.destroyAllWindows()"
   ]
  },
  {
   "cell_type": "markdown",
   "metadata": {},
   "source": [
    "## merge"
   ]
  },
  {
   "cell_type": "code",
   "execution_count": 5,
   "metadata": {},
   "outputs": [],
   "source": [
    "mr1 = cv2.merge((r,g,b))\n",
    "mr2 = cv2.merge((g,r,b))\n",
    "cv2.imshow(\"rgb\", mr1)\n",
    "cv2.imshow(\"grb\", mr2)\n",
    "cv2.imshow('original',img)\n",
    "cv2.waitKey(0)\n",
    "cv2.destroyAllWindows()"
   ]
  },
  {
   "cell_type": "markdown",
   "metadata": {},
   "source": [
    "## find pixel color thru co-ordinate "
   ]
  },
  {
   "cell_type": "code",
   "execution_count": 9,
   "metadata": {},
   "outputs": [
    {
     "name": "stdout",
     "output_type": "stream",
     "text": [
      "the pixel of that cordinate is:  [104  96   1]\n",
      "blue 104 \n",
      "green 96\n",
      "red 1\n"
     ]
    }
   ],
   "source": [
    "img = cv2.imread('../image.png')\n",
    "img = cv2.resize(img,(1024,700))\n",
    "\n",
    "px = img[520,580]\n",
    "print('the pixel of that cordinate is: ',px)\n",
    "\n",
    "\n",
    "\n",
    "blu_px = img[520,580,0]\n",
    "grn_px = img[520,580,1]\n",
    "red_px = img[520,580,2]\n",
    "print(f'blue {blu_px} \\ngreen {grn_px}\\nred {red_px}')\n",
    "\n",
    "cv2.imshow('lion',img)\n",
    "cv2.waitKey(0)\n",
    "cv2.destroyAllWindows()"
   ]
  }
 ],
 "metadata": {
  "kernelspec": {
   "display_name": "py310",
   "language": "python",
   "name": "python3"
  },
  "language_info": {
   "codemirror_mode": {
    "name": "ipython",
    "version": 3
   },
   "file_extension": ".py",
   "mimetype": "text/x-python",
   "name": "python",
   "nbconvert_exporter": "python",
   "pygments_lexer": "ipython3",
   "version": "3.10.13"
  }
 },
 "nbformat": 4,
 "nbformat_minor": 2
}
